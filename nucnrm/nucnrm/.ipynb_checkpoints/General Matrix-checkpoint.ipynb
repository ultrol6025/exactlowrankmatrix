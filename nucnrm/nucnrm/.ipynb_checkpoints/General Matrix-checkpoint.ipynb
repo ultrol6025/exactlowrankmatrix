{
 "cells": [
  {
   "cell_type": "code",
   "execution_count": null,
   "metadata": {},
   "outputs": [],
   "source": [
    "from cvxopt import matrix, spmatrix, normal, setseed, blas, lapack, solvers\n",
    "import nucnrm\n",
    "import numpy as np\n",
    "from tqdm import tqdm"
   ]
  },
  {
   "cell_type": "code",
   "execution_count": null,
   "metadata": {},
   "outputs": [],
   "source": [
    "n = 30\n",
    "num_iteration = 1\n",
    "results = np.zeros((n,n**2))\n",
    "for i in tqdm(range(n)):\n",
    "    for j in range(n**2):\n",
    "        for k in range(num_iteration):\n",
    "            r = i\n",
    "            m = j\n",
    "            C = np.random.randn(n,r)\n",
    "            D = np.random.randn(r,n)\n",
    "            M = np.dot(C,D)\n",
    "\n",
    "            Op = np.random.choice(n*n,m,replace =False)\n",
    "            nOp = np.setdiff1d(range(n*n),Op)\n",
    "\n",
    "            B = np.zeros(n*n)\n",
    "            B[Op] = M.reshape(-1)[Op]\n",
    "            B = matrix(B,(n,n))\n",
    "            A = spmatrix(1.0,nOp,range(n*n-m),size=(n*n,n*n-m ))\n",
    "\n",
    "            sol = nucnrm.nrmapp(A, B)\n",
    "\n",
    "            x = sol['x']\n",
    "            Z = sol['Z']\n",
    "            X = matrix(A *x, (n, n)) + B\n",
    "            if np.linalg.norm(X.T-M)/np.linalg.norm(M)< 1e-3:\n",
    "                results[i,j] += 1/num_iteration\n"
   ]
  },
  {
   "cell_type": "code",
   "execution_count": null,
   "metadata": {},
   "outputs": [],
   "source": [
    "results"
   ]
  },
  {
   "cell_type": "code",
   "execution_count": null,
   "metadata": {},
   "outputs": [],
   "source": [
    "import seaborn as sns\n",
    "import matplotlib.pyplot as plt\n",
    "plt.figure(figsize=(10,10))\n",
    "sns.heatmap(results[::-1,:])\n",
    "plt.xlabel('m/n*n')\n",
    "plt.ylabel('d_r/m')\n",
    "plt.xticks([])\n",
    "plt.yticks([])"
   ]
  },
  {
   "cell_type": "code",
   "execution_count": null,
   "metadata": {},
   "outputs": [],
   "source": [
    "from multiprocessing import Pool\n",
    "\n",
    "def f(x):\n",
    "    return x*x\n",
    "\n",
    "if __name__ == '__main__':\n",
    "    with Pool(5) as p:\n",
    "        print(p.map(f, [1, 2, 3]))"
   ]
  },
  {
   "cell_type": "code",
   "execution_count": null,
   "metadata": {},
   "outputs": [],
   "source": []
  }
 ],
 "metadata": {
  "kernelspec": {
   "display_name": "Python 3",
   "language": "python",
   "name": "python3"
  },
  "language_info": {
   "codemirror_mode": {
    "name": "ipython",
    "version": 3
   },
   "file_extension": ".py",
   "mimetype": "text/x-python",
   "name": "python",
   "nbconvert_exporter": "python",
   "pygments_lexer": "ipython3",
   "version": "3.8.5"
  }
 },
 "nbformat": 4,
 "nbformat_minor": 4
}
